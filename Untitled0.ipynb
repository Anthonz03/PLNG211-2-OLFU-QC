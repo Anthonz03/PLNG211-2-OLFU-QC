{
  "nbformat": 4,
  "nbformat_minor": 0,
  "metadata": {
    "colab": {
      "provenance": [],
      "collapsed_sections": [],
      "authorship_tag": "ABX9TyODE3qmIZ9y6G+CgInXVWSg",
      "include_colab_link": true
    },
    "kernelspec": {
      "name": "python3",
      "display_name": "Python 3"
    },
    "language_info": {
      "name": "python"
    }
  },
  "cells": [
    {
      "cell_type": "markdown",
      "metadata": {
        "id": "view-in-github",
        "colab_type": "text"
      },
      "source": [
        "<a href=\"https://colab.research.google.com/github/Anthonz03/PLNG211-2-OLFU-QC/blob/main/Untitled0.ipynb\" target=\"_parent\"><img src=\"https://colab.research.google.com/assets/colab-badge.svg\" alt=\"Open In Colab\"/></a>"
      ]
    },
    {
      "cell_type": "code",
      "execution_count": 5,
      "metadata": {
        "colab": {
          "base_uri": "https://localhost:8080/"
        },
        "id": "Rg5gJnkkMRj9",
        "outputId": "ccedde83-065a-4e08-cf1d-519db41e5309"
      },
      "outputs": [
        {
          "output_type": "stream",
          "name": "stdout",
          "text": [
            "Hello, World\n"
          ]
        }
      ],
      "source": [
        "# This is a comment\n",
        "print(\"Hello, World\")"
      ]
    },
    {
      "cell_type": "code",
      "source": [
        "#single variable\n",
        "e,f = -65.1,3\n",
        "\n",
        "#multiple variable\n",
        "a,b,c = float(16.67),float(-0.05),9\n",
        "\n",
        "#string type\n",
        "d = \"Tony Sparklez\"\n",
        "\n"
      ],
      "metadata": {
        "id": "e7Dl-jnnMZtY"
      },
      "execution_count": 21,
      "outputs": []
    },
    {
      "cell_type": "code",
      "source": [
        "print(a)\n",
        "print(e)\n",
        "print(f)\n",
        "print(b)\n",
        "print(c)\n",
        "d"
      ],
      "metadata": {
        "colab": {
          "base_uri": "https://localhost:8080/",
          "height": 122
        },
        "id": "WaU6hkasP15c",
        "outputId": "ac231ad0-0a30-40c0-c6f4-df03108dcddc"
      },
      "execution_count": 22,
      "outputs": [
        {
          "output_type": "stream",
          "name": "stdout",
          "text": [
            "16.67\n",
            "-65.1\n",
            "3\n",
            "-0.05\n",
            "9\n"
          ]
        },
        {
          "output_type": "execute_result",
          "data": {
            "text/plain": [
              "'Tony Sparklez'"
            ],
            "application/vnd.google.colaboratory.intrinsic+json": {
              "type": "string"
            }
          },
          "metadata": {},
          "execution_count": 22
        }
      ]
    },
    {
      "cell_type": "code",
      "source": [
        "x = \"enjoying, fun and glamorous :D\"\n",
        "y = \"Phython Programming is \"\n",
        "\n",
        "\n",
        "print(y + x)"
      ],
      "metadata": {
        "colab": {
          "base_uri": "https://localhost:8080/"
        },
        "id": "6PEhpWrxQMfz",
        "outputId": "297a1305-eb0e-4a44-a0f2-75b5843251b1"
      },
      "execution_count": 26,
      "outputs": [
        {
          "output_type": "stream",
          "name": "stdout",
          "text": [
            "Phython Programming is enjoying, fun and glamorous :D\n"
          ]
        }
      ]
    },
    {
      "cell_type": "code",
      "source": [
        "x = 12.2\n",
        "x += 9\n",
        "\n",
        "print(x)\n"
      ],
      "metadata": {
        "colab": {
          "base_uri": "https://localhost:8080/"
        },
        "id": "DBuRK9UbQswx",
        "outputId": "31390c41-bd7a-474b-ed5a-fd35fca1fef5"
      },
      "execution_count": 30,
      "outputs": [
        {
          "output_type": "stream",
          "name": "stdout",
          "text": [
            "18.0\n"
          ]
        }
      ]
    }
  ]
}