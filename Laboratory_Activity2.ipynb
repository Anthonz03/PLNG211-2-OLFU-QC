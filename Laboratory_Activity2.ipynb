{
  "nbformat": 4,
  "nbformat_minor": 0,
  "metadata": {
    "colab": {
      "provenance": [],
      "authorship_tag": "ABX9TyOVAhbPAm84aNjPbraYkO9a",
      "include_colab_link": true
    },
    "kernelspec": {
      "name": "python3",
      "display_name": "Python 3"
    },
    "language_info": {
      "name": "python"
    }
  },
  "cells": [
    {
      "cell_type": "markdown",
      "metadata": {
        "id": "view-in-github",
        "colab_type": "text"
      },
      "source": [
        "<a href=\"https://colab.research.google.com/github/Anthonz03/PLNG211-2-OLFU-QC/blob/main/Laboratory_Activity2.ipynb\" target=\"_parent\"><img src=\"https://colab.research.google.com/assets/colab-badge.svg\" alt=\"Open In Colab\"/></a>"
      ]
    },
    {
      "cell_type": "code",
      "execution_count": 3,
      "metadata": {
        "colab": {
          "base_uri": "https://localhost:8080/"
        },
        "id": "PzgExFh5egHQ",
        "outputId": "87dd018d-bbb1-4a3b-f0fc-985d9dff6dda"
      },
      "outputs": [
        {
          "output_type": "stream",
          "name": "stdout",
          "text": [
            "Anthony Julian Eden\n",
            "02210006527\n",
            "17\n",
            "Bachelor of Science in Computer Science\n"
          ]
        }
      ],
      "source": [
        "print(\"Anthony Julian Eden\")\n",
        "print(\"02210006527\")\n",
        "print(\"17\")\n",
        "print(\"Bachelor of Science in Computer Science\")\n"
      ]
    },
    {
      "cell_type": "code",
      "source": [
        "class Student:\n",
        "  def __init__(self,Name,Student_No,Age,School,Course):\n",
        "   self.Name = Name\n",
        "   self.Student_No = Student_No\n",
        "   self.Age = Age\n",
        "   self.School = School\n",
        "   self.Course = Course\n",
        "  def myFunction(self):\n",
        "    print(self.Name)\n",
        "    print(self.Student_No)\n",
        "    print(self.Age)\n",
        "    print(self.School)\n",
        "    print(self.Course)\n",
        "\n",
        "class Info(Student):\n",
        "  pass\n",
        "\n",
        "\n",
        "p1 = Student(\"Anthony Julian Eden\",\"02210006527\",\"17\",\"Our Lady of Fatima University\",\"Bachelor of Science in Computer Science\")\n",
        "p1.myFunction()\n",
        "\n",
        "p2 = Info(\"\\nTony Magenta Sparklez\",\"02210000000\",\"20\",\"Our Lady Of Fatima University\",\"Bachelor of Elementary Education\")\n",
        "p2.myFunction()"
      ],
      "metadata": {
        "colab": {
          "base_uri": "https://localhost:8080/"
        },
        "id": "fTWv6OJwm0qM",
        "outputId": "c69096ec-37e1-461d-a9be-7f4e89c3eaf1"
      },
      "execution_count": 18,
      "outputs": [
        {
          "output_type": "stream",
          "name": "stdout",
          "text": [
            "Anthony Julian Eden\n",
            "02210006527\n",
            "17\n",
            "Our Lady of Fatima University\n",
            "Bachelor of Science in Computer Science\n",
            "\n",
            "Tony Magenta Sparklez\n",
            "02210000000\n",
            "20\n",
            "Our Lady Of Fatima University\n",
            "Bachelor of Elementary Education\n"
          ]
        }
      ]
    }
  ]
}