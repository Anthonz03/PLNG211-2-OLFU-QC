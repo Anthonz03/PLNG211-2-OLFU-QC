{
  "nbformat": 4,
  "nbformat_minor": 0,
  "metadata": {
    "colab": {
      "provenance": [],
      "authorship_tag": "ABX9TyN0ous0xO538/hT2Vw3UHeI",
      "include_colab_link": true
    },
    "kernelspec": {
      "name": "python3",
      "display_name": "Python 3"
    },
    "language_info": {
      "name": "python"
    }
  },
  "cells": [
    {
      "cell_type": "markdown",
      "metadata": {
        "id": "view-in-github",
        "colab_type": "text"
      },
      "source": [
        "<a href=\"https://colab.research.google.com/github/Anthonz03/PLNG211-2-OLFU-QC/blob/main/Operations_and_Expressions.ipynb\" target=\"_parent\"><img src=\"https://colab.research.google.com/assets/colab-badge.svg\" alt=\"Open In Colab\"/></a>"
      ]
    },
    {
      "cell_type": "code",
      "execution_count": 1,
      "metadata": {
        "colab": {
          "base_uri": "https://localhost:8080/"
        },
        "id": "W24wwxNQ9y48",
        "outputId": "623844fd-7ba9-47da-96f6-3fb8e98a188f"
      },
      "outputs": [
        {
          "output_type": "stream",
          "name": "stdout",
          "text": [
            "True\n",
            "False\n",
            "False\n"
          ]
        }
      ],
      "source": [
        "a = 10\n",
        "b = 5\n",
        "print(a>b)\n",
        "print(b==a)\n",
        "print(5>10)"
      ]
    },
    {
      "cell_type": "markdown",
      "source": [
        "Boolean () Function"
      ],
      "metadata": {
        "id": "CWvGUIRL-JYM"
      }
    },
    {
      "cell_type": "code",
      "source": [
        "print(bool(2))\n",
        "print(bool(\"Hello World\"))\n",
        "print(bool(0))\n",
        "print(bool(None))\n",
        "print(bool([]))"
      ],
      "metadata": {
        "colab": {
          "base_uri": "https://localhost:8080/"
        },
        "id": "H23PFSAX-M98",
        "outputId": "f4971ceb-e53e-47dd-ef77-c750f8b99a09"
      },
      "execution_count": 6,
      "outputs": [
        {
          "output_type": "stream",
          "name": "stdout",
          "text": [
            "True\n",
            "True\n",
            "False\n",
            "False\n",
            "False\n"
          ]
        }
      ]
    },
    {
      "cell_type": "markdown",
      "source": [
        "Function that returns a boolean answer"
      ],
      "metadata": {
        "id": "eZ_7x9_y-0nC"
      }
    },
    {
      "cell_type": "code",
      "source": [
        "def My_Function():\n",
        "  return False\n",
        "\n",
        "\n",
        "if My_Function():\n",
        "    print(\"Correct\")\n",
        "else:\n",
        "    print(\"Incorrect\")"
      ],
      "metadata": {
        "colab": {
          "base_uri": "https://localhost:8080/"
        },
        "id": "4Y1wI8M_-7MH",
        "outputId": "732ebaa0-68f5-4090-ecc8-91ca1d83d696"
      },
      "execution_count": 9,
      "outputs": [
        {
          "output_type": "stream",
          "name": "stdout",
          "text": [
            "Incorrect\n"
          ]
        }
      ]
    },
    {
      "cell_type": "markdown",
      "source": [
        "You Try"
      ],
      "metadata": {
        "id": "RuIGBFcY_omB"
      }
    },
    {
      "cell_type": "code",
      "source": [
        "c=6\n",
        "d=7\n",
        "print(c==d)\n",
        "print(c!=d)\n",
        "c==d\n",
        "c!=d"
      ],
      "metadata": {
        "colab": {
          "base_uri": "https://localhost:8080/"
        },
        "id": "wgIhsFPT_qh2",
        "outputId": "464a515d-5954-46b8-cdfc-79a800681645"
      },
      "execution_count": 15,
      "outputs": [
        {
          "output_type": "stream",
          "name": "stdout",
          "text": [
            "False\n",
            "True\n"
          ]
        },
        {
          "output_type": "execute_result",
          "data": {
            "text/plain": [
              "True"
            ]
          },
          "metadata": {},
          "execution_count": 15
        }
      ]
    },
    {
      "cell_type": "markdown",
      "source": [
        "Phython Operators"
      ],
      "metadata": {
        "id": "0sE3odaSBMAE"
      }
    },
    {
      "cell_type": "code",
      "source": [
        "print(5+15)\n",
        "print(6-11)\n",
        "print(3*16)\n",
        "print(1/6)\n",
        "print(4%3)\n",
        "print(9%6)\n",
        "print(36**2)\n"
      ],
      "metadata": {
        "colab": {
          "base_uri": "https://localhost:8080/"
        },
        "id": "FHQAnkcIBOVt",
        "outputId": "d56c79a9-8191-4a22-8742-6ba096adb5c4"
      },
      "execution_count": 22,
      "outputs": [
        {
          "output_type": "stream",
          "name": "stdout",
          "text": [
            "20\n",
            "-5\n",
            "48\n",
            "0.16666666666666666\n",
            "1\n",
            "3\n",
            "1296\n",
            "49\n",
            "120\n"
          ]
        }
      ]
    },
    {
      "cell_type": "code",
      "source": [
        "e = 60\n",
        "f = 13               #00001101, 2s complement\n",
        "print(f ^ e)\n",
        "print(e<<1)\n",
        "print(e>>1)\n",
        "print(~f)"
      ],
      "metadata": {
        "colab": {
          "base_uri": "https://localhost:8080/"
        },
        "id": "YEH65YW1EPjX",
        "outputId": "3385e4d1-9b98-4ca9-a5e9-d02849cc82bd"
      },
      "execution_count": 28,
      "outputs": [
        {
          "output_type": "stream",
          "name": "stdout",
          "text": [
            "49\n",
            "120\n",
            "30\n",
            "-14\n"
          ]
        }
      ]
    },
    {
      "cell_type": "code",
      "source": [
        "x= 18\n",
        "y = 7\n",
        "x+=3\n",
        "print(\"x=\",x)"
      ],
      "metadata": {
        "colab": {
          "base_uri": "https://localhost:8080/"
        },
        "id": "WeZoiUnXKr0f",
        "outputId": "b36acbf9-b66f-4ba4-f000-ef4b6a77e5c1"
      },
      "execution_count": 30,
      "outputs": [
        {
          "output_type": "stream",
          "name": "stdout",
          "text": [
            "x= 21\n"
          ]
        }
      ]
    },
    {
      "cell_type": "markdown",
      "source": [
        "Logical Operators"
      ],
      "metadata": {
        "id": "CeYQ9R6KKQLc"
      }
    }
  ]
}