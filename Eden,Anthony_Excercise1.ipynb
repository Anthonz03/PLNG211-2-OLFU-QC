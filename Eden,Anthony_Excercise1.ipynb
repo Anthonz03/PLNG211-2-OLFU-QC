{
  "nbformat": 4,
  "nbformat_minor": 0,
  "metadata": {
    "colab": {
      "provenance": [],
      "authorship_tag": "ABX9TyOBO1YtDjue3GjgR0SPKavD",
      "include_colab_link": true
    },
    "kernelspec": {
      "name": "python3",
      "display_name": "Python 3"
    },
    "language_info": {
      "name": "python"
    }
  },
  "cells": [
    {
      "cell_type": "markdown",
      "metadata": {
        "id": "view-in-github",
        "colab_type": "text"
      },
      "source": [
        "<a href=\"https://colab.research.google.com/github/Anthonz03/PLNG211-2-OLFU-QC/blob/main/Eden%2CAnthony_Excercise1.ipynb\" target=\"_parent\"><img src=\"https://colab.research.google.com/assets/colab-badge.svg\" alt=\"Open In Colab\"/></a>"
      ]
    },
    {
      "cell_type": "code",
      "execution_count": 3,
      "metadata": {
        "colab": {
          "base_uri": "https://localhost:8080/"
        },
        "id": "rMGXU0p8YmJE",
        "outputId": "5e769b50-00c9-49bf-aee7-c974fbd60e68"
      },
      "outputs": [
        {
          "output_type": "stream",
          "name": "stdout",
          "text": [
            "The odd numbers are: \n",
            "49\n",
            "87\n",
            "75\n",
            "The sum of the Odd numbers are: 211\n"
          ]
        }
      ],
      "source": [
        "num=[26,49,98,87,62,75]\n",
        "sum=0;\n",
        "print(\"The odd numbers are: \")\n",
        "for a in num:\n",
        "  if (a%2 == 1): \n",
        "    sum=sum+a\n",
        "    print(a)\n",
        "print(\"The sum of the Odd numbers are:\",sum)"
      ]
    }
  ]
}