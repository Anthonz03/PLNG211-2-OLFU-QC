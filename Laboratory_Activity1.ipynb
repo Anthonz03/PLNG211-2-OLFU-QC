{
  "nbformat": 4,
  "nbformat_minor": 0,
  "metadata": {
    "colab": {
      "provenance": [],
      "authorship_tag": "ABX9TyP4nMF41kIuOCzZF1wWJEsc",
      "include_colab_link": true
    },
    "kernelspec": {
      "name": "python3",
      "display_name": "Python 3"
    },
    "language_info": {
      "name": "python"
    }
  },
  "cells": [
    {
      "cell_type": "markdown",
      "metadata": {
        "id": "view-in-github",
        "colab_type": "text"
      },
      "source": [
        "<a href=\"https://colab.research.google.com/github/Anthonz03/PLNG211-2-OLFU-QC/blob/main/Laboratory_Activity1.ipynb\" target=\"_parent\"><img src=\"https://colab.research.google.com/assets/colab-badge.svg\" alt=\"Open In Colab\"/></a>"
      ]
    },
    {
      "cell_type": "code",
      "execution_count": 21,
      "metadata": {
        "colab": {
          "base_uri": "https://localhost:8080/"
        },
        "id": "tKX-yJMw9taP",
        "outputId": "00e64276-cbfc-44ea-b4fe-68a14452825d"
      },
      "outputs": [
        {
          "output_type": "stream",
          "name": "stdout",
          "text": [
            "1\n",
            "2\n",
            "3\n",
            "4\n",
            "5\n",
            "6\n",
            "7\n",
            "8\n",
            "9\n",
            "10\n",
            "Sum = 55\n"
          ]
        }
      ],
      "source": [
        "#number 1\n",
        "array = [1,2,3,4,5,6,7,8,9,10]\n",
        "\n",
        "sum = 0\n",
        "for x in array:\n",
        "    \n",
        " print(x)\n",
        "sum += x\n",
        "\n",
        "def sumArray():\n",
        "  addition = 0\n",
        "  for x in array:\n",
        "    addition = addition + x\n",
        "  print(\"Sum =\", addition)\n",
        "sumArray()  "
      ]
    },
    {
      "cell_type": "code",
      "source": [
        "#number 2\n",
        "numbers = [1,2,3,4,5,6,7,8,9,10]\n",
        "\n",
        "numbers.append(12)\n",
        "print(numbers)\n"
      ],
      "metadata": {
        "colab": {
          "base_uri": "https://localhost:8080/"
        },
        "id": "2lLLPkpBB4UY",
        "outputId": "e188165c-7516-4478-d36e-e12da0187a36"
      },
      "execution_count": 24,
      "outputs": [
        {
          "output_type": "stream",
          "name": "stdout",
          "text": [
            "[1, 2, 3, 4, 5, 6, 7, 8, 9, 10, 12]\n"
          ]
        }
      ]
    },
    {
      "cell_type": "code",
      "source": [
        "#number 3\n",
        "numbers = [1,2,3,4,5,6,7,8,9,10]\n",
        "\n",
        "numbers.insert(1,1.25)\n",
        "print(numbers)"
      ],
      "metadata": {
        "colab": {
          "base_uri": "https://localhost:8080/"
        },
        "id": "tNh0WTiqFsce",
        "outputId": "fe5eb04d-03f2-4b1e-a0b4-2d1fd9a7d02d"
      },
      "execution_count": 25,
      "outputs": [
        {
          "output_type": "stream",
          "name": "stdout",
          "text": [
            "[1, 1.25, 2, 3, 4, 5, 6, 7, 8, 9, 10]\n"
          ]
        }
      ]
    },
    {
      "cell_type": "code",
      "source": [
        "#number 4\n",
        "numbers = [5, 4, 3, 2, 1]\n",
        "\n",
        "numbers.reverse()\n",
        "print(numbers)"
      ],
      "metadata": {
        "colab": {
          "base_uri": "https://localhost:8080/"
        },
        "id": "B0ZuBMXHFzLR",
        "outputId": "0a34b92d-7adb-4ce7-931b-f53c998fe15c"
      },
      "execution_count": 26,
      "outputs": [
        {
          "output_type": "stream",
          "name": "stdout",
          "text": [
            "[1, 2, 3, 4, 5]\n"
          ]
        }
      ]
    },
    {
      "cell_type": "code",
      "source": [
        "#number 5\n",
        "numbers = [5, 4, 3, 2, 1]\n",
        "n = len(numbers)\n",
        "print(n)"
      ],
      "metadata": {
        "colab": {
          "base_uri": "https://localhost:8080/"
        },
        "id": "c03BTAwNF2ei",
        "outputId": "e8fa178b-9626-4d00-ab88-814e96e0593b"
      },
      "execution_count": 27,
      "outputs": [
        {
          "output_type": "stream",
          "name": "stdout",
          "text": [
            "5\n"
          ]
        }
      ]
    }
  ]
}